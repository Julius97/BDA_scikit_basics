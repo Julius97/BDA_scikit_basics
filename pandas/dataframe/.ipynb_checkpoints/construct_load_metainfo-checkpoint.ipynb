{
 "cells": [
  {
   "cell_type": "code",
   "execution_count": 1,
   "metadata": {
    "collapsed": true
   },
   "outputs": [],
   "source": [
    "%load_ext autoreload\n",
    "%autoreload 2"
   ]
  },
  {
   "cell_type": "code",
   "execution_count": 2,
   "metadata": {
    "collapsed": true
   },
   "outputs": [],
   "source": [
    "import numpy as np\n",
    "import pandas as pd"
   ]
  },
  {
   "cell_type": "code",
   "execution_count": 8,
   "metadata": {
    "collapsed": true
   },
   "outputs": [],
   "source": [
    "l1 = ['a', 'b', 'c', 'd']\n",
    "l2 = [1, 2, 3, 4]\n",
    "a1 = np.array(l1)\n",
    "a2 = np.array(l2)\n",
    "s1 = pd.Series(a1)\n",
    "s2 = pd.Series(a2)"
   ]
  },
  {
   "cell_type": "code",
   "execution_count": 15,
   "metadata": {
    "collapsed": false
   },
   "outputs": [
    {
     "name": "stdout",
     "output_type": "stream",
     "text": [
      "  column1  column2\n",
      "0       a        1\n",
      "1       b        2\n",
      "2       c        3\n",
      "3       d        4\n",
      "  column1  column2\n",
      "0       a        1\n",
      "1       b        2\n",
      "2       c        3\n",
      "3       d        4\n",
      "  column1  column2\n",
      "0       a        1\n",
      "1       b        2\n",
      "2       c        3\n",
      "3       d        4\n",
      "  column1  column2\n",
      "0       a        1\n",
      "1       b        2\n",
      "2       c        3\n",
      "3       d        4\n"
     ]
    }
   ],
   "source": [
    "df1 = pd.DataFrame({'column1': l1, 'column2': l2})\n",
    "df2 = pd.DataFrame({'column1': a1, 'column2': a2})\n",
    "df3 = pd.DataFrame({'column1': s1, 'column2': s2})\n",
    "df4 = pd.DataFrame([{'column1': 'a', 'column2': 1}, {'column1': 'b', 'column2': 2}, {'column1': 'c', 'column2': 3}, {'column1': 'd', 'column2': 4}])\n",
    "print(df1)\n",
    "print(df2)\n",
    "print(df3)\n",
    "print(df4)"
   ]
  },
  {
   "cell_type": "code",
   "execution_count": 13,
   "metadata": {
    "collapsed": false
   },
   "outputs": [
    {
     "name": "stdout",
     "output_type": "stream",
     "text": [
      "(4, 2)\n",
      "column1    object\n",
      "column2     int64\n",
      "dtype: object\n"
     ]
    }
   ],
   "source": [
    "print(df1.shape)\n",
    "print(df1.dtypes)"
   ]
  },
  {
   "cell_type": "code",
   "execution_count": null,
   "metadata": {
    "collapsed": true
   },
   "outputs": [],
   "source": [
    "#many possible parameters \n",
    "data = pd.read_csv('data.csv')\n",
    "data.to_csv('data.csv')"
   ]
  }
 ],
 "metadata": {
  "kernelspec": {
   "display_name": "Python 3",
   "language": "python",
   "name": "python3"
  },
  "language_info": {
   "codemirror_mode": {
    "name": "ipython",
    "version": 3
   },
   "file_extension": ".py",
   "mimetype": "text/x-python",
   "name": "python",
   "nbconvert_exporter": "python",
   "pygments_lexer": "ipython3",
   "version": "3.4.3"
  }
 },
 "nbformat": 4,
 "nbformat_minor": 1
}
